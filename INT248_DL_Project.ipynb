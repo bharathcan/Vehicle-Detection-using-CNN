{
  "nbformat": 4,
  "nbformat_minor": 0,
  "metadata": {
    "kernelspec": {
      "name": "python3",
      "display_name": "Python 3",
      "language": "python"
    },
    "language_info": {
      "name": "python",
      "version": "3.6.6",
      "mimetype": "text/x-python",
      "codemirror_mode": {
        "name": "ipython",
        "version": 3
      },
      "pygments_lexer": "ipython3",
      "nbconvert_exporter": "python",
      "file_extension": ".py"
    },
    "colab": {
      "name": "INT248 DL Project",
      "provenance": []
    }
  },
  "cells": [
    {
      "cell_type": "markdown",
      "metadata": {
        "_uuid": "e5260eaf065ebddbcd1ca540bb8548a32f428ca7",
        "id": "v2iFtnge6X23"
      },
      "source": [
        "# This Notebook is suppopsed to serve as my Project for INT418 Deep Learning Project  \n",
        "\n",
        "## In this Notebook, I am going to attempt to classify images of car and predict their brand "
      ]
    },
    {
      "cell_type": "markdown",
      "metadata": {
        "_uuid": "d784eaa62356356df8037aa36ae6cf6cff339671",
        "id": "1R04INbI6X25"
      },
      "source": [
        "## Table of Contents \n",
        "\n",
        "* [Import libraries and the data](#import_libraries)\n",
        "* [Set up the Data](#set_up_data)\n",
        "* [Pandas DataFrames and images](#pd_images)\n",
        "    * [Test and Training DataFrames](#train_test_df)\n",
        "   \n",
        "* [Categorizing string data and choosing the cars](#some_insight)\n",
        "\n",
        "* [Setting up the Convolutional Network](#cnn)\n",
        "    * [Using Keras' flow_from_dataframe to load the dataset](#flow_from_dataframe)\n",
        "    \n",
        "* [Results for Mercedes](#mercedes_results)    \n",
        "    * [Visualize correct and wrong predictions for Mercedes](#merc-plots)\n",
        "\n",
        "* [Results for BMW](#bmw)\n",
        "    * [Visualize correct and wrong predictions for BMW](#bmw_plots)\n",
        "\n",
        "* [Results for Audi](#Audi)\n",
        "    * [Visualize correct and wrong predictions for Audi](#audi-plots)\n",
        "\n",
        "* [Final thoughts](#final)\n"
      ]
    },
    {
      "cell_type": "markdown",
      "metadata": {
        "_uuid": "126f33882445cdc99798ef9cec8e9d02412d1083",
        "id": "scMIWqRP6X26"
      },
      "source": [
        "<a id ='import_libraries'></a>\n",
        "\n",
        "## <font color = 'purple'>   Let's start off by importing some of the libraries that we will be using. </font>"
      ]
    },
    {
      "cell_type": "code",
      "metadata": {
        "_uuid": "8f2839f25d086af736a60e9eeb907d3b93b6e0e5",
        "_cell_guid": "b1076dfc-b9ad-4769-8c92-a6c4dae69d19",
        "trusted": true,
        "id": "c5nuMRfx6X27",
        "outputId": "06c83554-ee6a-4ca3-a305-6e43f179c6e0"
      },
      "source": [
        "import numpy as np # linear algebra\n",
        "import pandas as pd # data processing, CSV file I/O (e.g. pd.read_csv)\n",
        "import matplotlib.pyplot as plt\n",
        "from ipykernel import kernelapp as app #A powerful interactive Python shell and a Jupyter kernel to work with Python code in Jupyter notebooks and other interactive frontends.\n",
        "import os\n",
        "\n",
        "\n",
        "# Deep Learning libraries \n",
        "import tensorflow as tf\n",
        "import PIL as  pil \n",
        "#Python Imaging Library (PIL)support for opening, manipulating, and saving many different image file formats\n",
        "from PIL import Image\n",
        "import keras\n",
        "from keras.models import Sequential #linear stack of layers\n",
        "from keras.layers import Conv2D #this layer creates a convolution kernel that is wind with layers input which helps produce a tensor of outputsr\n",
        "from keras.layers import MaxPooling2D # Downsamples the input representation by taking the maximum value\n",
        "from keras.layers import Dropout #randomly sets input units to 0\n",
        "from keras.layers import Flatten #reshapes the tensor\n",
        "from keras.layers import Dense # the operation: output = activation(dot(input, kernel) + bias)\n",
        "# from keras.preprocessing.image import ImageDataGenerator, load_img\n",
        "# from keras_preprocessing.image import ImageDataGenerator, load_img\n",
        "!wget 'https://raw.githubusercontent.com/keras-team/keras-preprocessing/d3d58f5c6e2ef8b6270301415738ecb6deee2042/keras_preprocessing/image.py'\n",
        "# Wget is a free GNU command-line utility tool used to download files from the internet\n",
        "from image import ImageDataGenerator\n",
        "\n",
        "import os\n",
        "# print(os.listdir(\"../input\"))\n",
        "print(os.listdir(\"/kaggle/input\"))\n",
        "\n",
        "\n",
        "# Any results you write to the current directory are saved as output."
      ],
      "execution_count": null,
      "outputs": [
        {
          "output_type": "stream",
          "text": [
            "Using TensorFlow backend.\n"
          ],
          "name": "stderr"
        },
        {
          "output_type": "stream",
          "text": [
            "--2020-11-01 12:49:05--  https://raw.githubusercontent.com/keras-team/keras-preprocessing/d3d58f5c6e2ef8b6270301415738ecb6deee2042/keras_preprocessing/image.py\n",
            "Resolving raw.githubusercontent.com (raw.githubusercontent.com)... 151.101.200.133\n",
            "Connecting to raw.githubusercontent.com (raw.githubusercontent.com)|151.101.200.133|:443... connected.\n",
            "HTTP request sent, awaiting response... 200 OK\n",
            "Length: 97591 (95K) [text/plain]\n",
            "Saving to: ‘image.py’\n",
            "\n",
            "image.py            100%[===================>]  95.30K  --.-KB/s    in 0.03s   \n",
            "\n",
            "2020-11-01 12:49:05 (2.93 MB/s) - ‘image.py’ saved [97591/97591]\n",
            "\n",
            "['car_data', 'anno_train.csv', 'names.csv', 'anno_test.csv']\n"
          ],
          "name": "stdout"
        }
      ]
    },
    {
      "cell_type": "code",
      "metadata": {
        "trusted": true,
        "_uuid": "8c5e9519a32bc7289cf5403e9f3e72f44a47be96",
        "id": "I9BM8z0S6X3C",
        "outputId": "83059aad-cfa3-46f2-d26d-6b3fe0444298"
      },
      "source": [
        "keras.__version__"
      ],
      "execution_count": null,
      "outputs": [
        {
          "output_type": "execute_result",
          "data": {
            "text/plain": [
              "'2.2.4'"
            ]
          },
          "metadata": {
            "tags": []
          },
          "execution_count": 2
        }
      ]
    },
    {
      "cell_type": "markdown",
      "metadata": {
        "_uuid": "32f95628da8ed98cfc4933a8c2fd1cdab04df6b3",
        "id": "NJp6FGRq6X3H"
      },
      "source": [
        "## <font color ='purple'>....and also by loading in the data that we will be using. </font>"
      ]
    },
    {
      "cell_type": "code",
      "metadata": {
        "trusted": true,
        "_uuid": "1beeafc5aad8951a7526e2d5b3069930765f37ca",
        "scrolled": true,
        "id": "z7ZwX0jp6X3I",
        "outputId": "ba64ff2e-f067-40c4-f404-04469c4c8358"
      },
      "source": [
        "names = pd.read_csv(\"/kaggle/input/names.csv\")\n",
        "names.sample(10)\n",
        "# names.describe()"
      ],
      "execution_count": null,
      "outputs": [
        {
          "output_type": "execute_result",
          "data": {
            "text/plain": [
              "               AM General Hummer SUV 2000\n",
              "60        Chevrolet Tahoe Hybrid SUV 2012\n",
              "61             Chevrolet Sonic Sedan 2012\n",
              "94               Dodge Charger Sedan 2012\n",
              "79   Chrysler PT Cruiser Convertible 2008\n",
              "162      Mercedes-Benz E-Class Sedan 2012\n",
              "3                    Acura TSX Sedan 2012\n",
              "44         Bugatti Veyron 16.4 Coupe 2009\n",
              "130               Hyundai Tucson SUV 2012\n",
              "141               Isuzu Ascender SUV 2008\n",
              "128       Hyundai Veloster Hatchback 2012"
            ],
            "text/html": [
              "<div>\n",
              "<style scoped>\n",
              "    .dataframe tbody tr th:only-of-type {\n",
              "        vertical-align: middle;\n",
              "    }\n",
              "\n",
              "    .dataframe tbody tr th {\n",
              "        vertical-align: top;\n",
              "    }\n",
              "\n",
              "    .dataframe thead th {\n",
              "        text-align: right;\n",
              "    }\n",
              "</style>\n",
              "<table border=\"1\" class=\"dataframe\">\n",
              "  <thead>\n",
              "    <tr style=\"text-align: right;\">\n",
              "      <th></th>\n",
              "      <th>AM General Hummer SUV 2000</th>\n",
              "    </tr>\n",
              "  </thead>\n",
              "  <tbody>\n",
              "    <tr>\n",
              "      <th>60</th>\n",
              "      <td>Chevrolet Tahoe Hybrid SUV 2012</td>\n",
              "    </tr>\n",
              "    <tr>\n",
              "      <th>61</th>\n",
              "      <td>Chevrolet Sonic Sedan 2012</td>\n",
              "    </tr>\n",
              "    <tr>\n",
              "      <th>94</th>\n",
              "      <td>Dodge Charger Sedan 2012</td>\n",
              "    </tr>\n",
              "    <tr>\n",
              "      <th>79</th>\n",
              "      <td>Chrysler PT Cruiser Convertible 2008</td>\n",
              "    </tr>\n",
              "    <tr>\n",
              "      <th>162</th>\n",
              "      <td>Mercedes-Benz E-Class Sedan 2012</td>\n",
              "    </tr>\n",
              "    <tr>\n",
              "      <th>3</th>\n",
              "      <td>Acura TSX Sedan 2012</td>\n",
              "    </tr>\n",
              "    <tr>\n",
              "      <th>44</th>\n",
              "      <td>Bugatti Veyron 16.4 Coupe 2009</td>\n",
              "    </tr>\n",
              "    <tr>\n",
              "      <th>130</th>\n",
              "      <td>Hyundai Tucson SUV 2012</td>\n",
              "    </tr>\n",
              "    <tr>\n",
              "      <th>141</th>\n",
              "      <td>Isuzu Ascender SUV 2008</td>\n",
              "    </tr>\n",
              "    <tr>\n",
              "      <th>128</th>\n",
              "      <td>Hyundai Veloster Hatchback 2012</td>\n",
              "    </tr>\n",
              "  </tbody>\n",
              "</table>\n",
              "</div>"
            ]
          },
          "metadata": {
            "tags": []
          },
          "execution_count": 3
        }
      ]
    },
    {
      "cell_type": "code",
      "metadata": {
        "trusted": true,
        "_uuid": "23f28e1ce4e2607f0ec3d3b7a620a523e8bfc062",
        "id": "ksFopVDo6X3M",
        "outputId": "a4172feb-a660-49ce-e83f-0b937dda89df"
      },
      "source": [
        "anno_train = pd.read_csv(\"/kaggle/input/anno_train.csv\")\n",
        "anno_train.sample(10)\n",
        "# anno_train.describe()"
      ],
      "execution_count": null,
      "outputs": [
        {
          "output_type": "execute_result",
          "data": {
            "text/plain": [
              "      00001.jpg   39  116   569   375   14\n",
              "6069  06071.jpg   37   34   347   207   19\n",
              "1088  01090.jpg   15   57   528   299  153\n",
              "2085  02087.jpg   19  533  3220  1953   30\n",
              "1935  01937.jpg  212  192   578   332  103\n",
              "4150  04152.jpg   28   58   226   150   27\n",
              "7902  07904.jpg   74   50   315   157   74\n",
              "1427  01429.jpg   14   90   490   320  127\n",
              "1348  01350.jpg  105  315   780   561  157\n",
              "7912  07914.jpg   53  276  1330   723  161\n",
              "574   00576.jpg   20   24   232   156  119"
            ],
            "text/html": [
              "<div>\n",
              "<style scoped>\n",
              "    .dataframe tbody tr th:only-of-type {\n",
              "        vertical-align: middle;\n",
              "    }\n",
              "\n",
              "    .dataframe tbody tr th {\n",
              "        vertical-align: top;\n",
              "    }\n",
              "\n",
              "    .dataframe thead th {\n",
              "        text-align: right;\n",
              "    }\n",
              "</style>\n",
              "<table border=\"1\" class=\"dataframe\">\n",
              "  <thead>\n",
              "    <tr style=\"text-align: right;\">\n",
              "      <th></th>\n",
              "      <th>00001.jpg</th>\n",
              "      <th>39</th>\n",
              "      <th>116</th>\n",
              "      <th>569</th>\n",
              "      <th>375</th>\n",
              "      <th>14</th>\n",
              "    </tr>\n",
              "  </thead>\n",
              "  <tbody>\n",
              "    <tr>\n",
              "      <th>6069</th>\n",
              "      <td>06071.jpg</td>\n",
              "      <td>37</td>\n",
              "      <td>34</td>\n",
              "      <td>347</td>\n",
              "      <td>207</td>\n",
              "      <td>19</td>\n",
              "    </tr>\n",
              "    <tr>\n",
              "      <th>1088</th>\n",
              "      <td>01090.jpg</td>\n",
              "      <td>15</td>\n",
              "      <td>57</td>\n",
              "      <td>528</td>\n",
              "      <td>299</td>\n",
              "      <td>153</td>\n",
              "    </tr>\n",
              "    <tr>\n",
              "      <th>2085</th>\n",
              "      <td>02087.jpg</td>\n",
              "      <td>19</td>\n",
              "      <td>533</td>\n",
              "      <td>3220</td>\n",
              "      <td>1953</td>\n",
              "      <td>30</td>\n",
              "    </tr>\n",
              "    <tr>\n",
              "      <th>1935</th>\n",
              "      <td>01937.jpg</td>\n",
              "      <td>212</td>\n",
              "      <td>192</td>\n",
              "      <td>578</td>\n",
              "      <td>332</td>\n",
              "      <td>103</td>\n",
              "    </tr>\n",
              "    <tr>\n",
              "      <th>4150</th>\n",
              "      <td>04152.jpg</td>\n",
              "      <td>28</td>\n",
              "      <td>58</td>\n",
              "      <td>226</td>\n",
              "      <td>150</td>\n",
              "      <td>27</td>\n",
              "    </tr>\n",
              "    <tr>\n",
              "      <th>7902</th>\n",
              "      <td>07904.jpg</td>\n",
              "      <td>74</td>\n",
              "      <td>50</td>\n",
              "      <td>315</td>\n",
              "      <td>157</td>\n",
              "      <td>74</td>\n",
              "    </tr>\n",
              "    <tr>\n",
              "      <th>1427</th>\n",
              "      <td>01429.jpg</td>\n",
              "      <td>14</td>\n",
              "      <td>90</td>\n",
              "      <td>490</td>\n",
              "      <td>320</td>\n",
              "      <td>127</td>\n",
              "    </tr>\n",
              "    <tr>\n",
              "      <th>1348</th>\n",
              "      <td>01350.jpg</td>\n",
              "      <td>105</td>\n",
              "      <td>315</td>\n",
              "      <td>780</td>\n",
              "      <td>561</td>\n",
              "      <td>157</td>\n",
              "    </tr>\n",
              "    <tr>\n",
              "      <th>7912</th>\n",
              "      <td>07914.jpg</td>\n",
              "      <td>53</td>\n",
              "      <td>276</td>\n",
              "      <td>1330</td>\n",
              "      <td>723</td>\n",
              "      <td>161</td>\n",
              "    </tr>\n",
              "    <tr>\n",
              "      <th>574</th>\n",
              "      <td>00576.jpg</td>\n",
              "      <td>20</td>\n",
              "      <td>24</td>\n",
              "      <td>232</td>\n",
              "      <td>156</td>\n",
              "      <td>119</td>\n",
              "    </tr>\n",
              "  </tbody>\n",
              "</table>\n",
              "</div>"
            ]
          },
          "metadata": {
            "tags": []
          },
          "execution_count": 4
        }
      ]
    },
    {
      "cell_type": "markdown",
      "metadata": {
        "_uuid": "ea90b668b5fa3e95818566a2f4238d0effd690c0",
        "id": "7cJCs-I06X3R"
      },
      "source": [
        "<a id = 'set_up_data'></a>\n",
        "\n",
        "# <font color = 'purple'> So here is where we are going to set up the data for all these images.  </font>\n",
        "\n",
        "## <font color = 'green'> Let's start by loading the folders which contain the dataset and exploring them!!! <font>"
      ]
    },
    {
      "cell_type": "code",
      "metadata": {
        "trusted": true,
        "_uuid": "44fdc938c5a3f94be92c43de0f49da8fba552da8",
        "id": "wud9QvYS6X3S"
      },
      "source": [
        "# Folder containng all the files for the test set. \n",
        "car_test= \"/kaggle/input/car_data/car_data/test/\"\n"
      ],
      "execution_count": null,
      "outputs": []
    },
    {
      "cell_type": "code",
      "metadata": {
        "_cell_guid": "79c7e3d0-c299-4dcb-8224-4455121ee9b0",
        "_uuid": "d629ff2d2480ee46fbb7e2d37f6b5fab8052498a",
        "trusted": true,
        "scrolled": false,
        "id": "3NWfU2uU6X3W",
        "outputId": "147a6ada-59cf-4497-8a82-d76687f7df1a"
      },
      "source": [
        "# Folder containing all the training data.\n",
        "car_train = \"/kaggle/input/car_data/car_data/train/\"\n",
        "print('There are', len(os.listdir(car_train)),'folders in the training dataset')\n",
        "# os.listdir(car_train)"
      ],
      "execution_count": null,
      "outputs": [
        {
          "output_type": "stream",
          "text": [
            "There are 196 folders in the training dataset\n"
          ],
          "name": "stdout"
        }
      ]
    },
    {
      "cell_type": "code",
      "metadata": {
        "trusted": true,
        "_uuid": "3443e1cc1f273e8e4eed116d0f7031cd9335a19a",
        "id": "9gEL9q636X3b",
        "outputId": "bb4100dd-fa03-442b-9511-c50f05b297c9"
      },
      "source": [
        "car_test = \"/kaggle/input/car_data/car_data/test/\"\n",
        "os.listdir(car_test)"
      ],
      "execution_count": null,
      "outputs": [
        {
          "output_type": "execute_result",
          "data": {
            "text/plain": [
              "['Rolls-Royce Ghost Sedan 2012',\n",
              " 'Chevrolet Corvette Ron Fellows Edition Z06 2007',\n",
              " 'Dodge Journey SUV 2012',\n",
              " 'Buick Enclave SUV 2012',\n",
              " 'Suzuki SX4 Sedan 2012',\n",
              " 'Volvo 240 Sedan 1993',\n",
              " 'Mercedes-Benz S-Class Sedan 2012',\n",
              " 'Audi S5 Coupe 2012',\n",
              " 'Land Rover Range Rover SUV 2012',\n",
              " 'Chrysler Aspen SUV 2009',\n",
              " 'BMW ActiveHybrid 5 Sedan 2012',\n",
              " 'BMW 1 Series Coupe 2012',\n",
              " 'Dodge Ram Pickup 3500 Quad Cab 2009',\n",
              " 'Cadillac Escalade EXT Crew Cab 2007',\n",
              " 'Hyundai Sonata Hybrid Sedan 2012',\n",
              " 'Chevrolet Malibu Hybrid Sedan 2010',\n",
              " 'Dodge Magnum Wagon 2008',\n",
              " 'Volkswagen Golf Hatchback 2012',\n",
              " 'Toyota 4Runner SUV 2012',\n",
              " 'Hyundai Veracruz SUV 2012',\n",
              " 'Nissan Juke Hatchback 2012',\n",
              " 'AM General Hummer SUV 2000',\n",
              " 'MINI Cooper Roadster Convertible 2012',\n",
              " 'Chevrolet Silverado 2500HD Regular Cab 2012',\n",
              " 'Lamborghini Diablo Coupe 2001',\n",
              " 'Daewoo Nubira Wagon 2002',\n",
              " 'Dodge Caravan Minivan 1997',\n",
              " 'Dodge Durango SUV 2007',\n",
              " 'Mercedes-Benz E-Class Sedan 2012',\n",
              " 'Dodge Charger SRT-8 2009',\n",
              " 'Rolls-Royce Phantom Sedan 2012',\n",
              " 'BMW 6 Series Convertible 2007',\n",
              " 'Chevrolet Silverado 1500 Hybrid Crew Cab 2012',\n",
              " 'Chevrolet Camaro Convertible 2012',\n",
              " 'Bentley Arnage Sedan 2009',\n",
              " 'Volkswagen Golf Hatchback 1991',\n",
              " 'Mercedes-Benz SL-Class Coupe 2009',\n",
              " 'Volkswagen Beetle Hatchback 2012',\n",
              " 'Ford Expedition EL SUV 2009',\n",
              " 'Eagle Talon Hatchback 1998',\n",
              " 'Ram C-V Cargo Van Minivan 2012',\n",
              " 'Volvo XC90 SUV 2007',\n",
              " 'GMC Canyon Extended Cab 2012',\n",
              " 'Infiniti G Coupe IPL 2012',\n",
              " 'GMC Acadia SUV 2012',\n",
              " 'Chrysler 300 SRT-8 2010',\n",
              " 'Honda Odyssey Minivan 2007',\n",
              " 'BMW Z4 Convertible 2012',\n",
              " 'Lamborghini Reventon Coupe 2008',\n",
              " 'GMC Savana Van 2012',\n",
              " 'Audi S5 Convertible 2012',\n",
              " 'Chrysler Crossfire Convertible 2008',\n",
              " 'Lamborghini Aventador Coupe 2012',\n",
              " 'Scion xD Hatchback 2012',\n",
              " 'Chrysler Town and Country Minivan 2012',\n",
              " 'Buick Verano Sedan 2012',\n",
              " 'Acura TL Sedan 2012',\n",
              " 'Hyundai Tucson SUV 2012',\n",
              " 'Suzuki Aerio Sedan 2007',\n",
              " 'Chevrolet Avalanche Crew Cab 2012',\n",
              " 'Chevrolet Silverado 1500 Regular Cab 2012',\n",
              " 'Audi TT Hatchback 2011',\n",
              " 'Jeep Wrangler SUV 2012',\n",
              " 'smart fortwo Convertible 2012',\n",
              " 'Ferrari FF Coupe 2012',\n",
              " 'Audi 100 Wagon 1994',\n",
              " 'Acura TL Type-S 2008',\n",
              " 'Infiniti QX56 SUV 2011',\n",
              " 'BMW M5 Sedan 2010',\n",
              " 'Maybach Landaulet Convertible 2012',\n",
              " 'Toyota Sequoia SUV 2012',\n",
              " 'Suzuki Kizashi Sedan 2012',\n",
              " 'Toyota Camry Sedan 2012',\n",
              " 'Aston Martin Virage Coupe 2012',\n",
              " 'Buick Rainier SUV 2007',\n",
              " 'Chevrolet Malibu Sedan 2007',\n",
              " 'Honda Accord Coupe 2012',\n",
              " 'BMW M3 Coupe 2012',\n",
              " 'Hyundai Elantra Touring Hatchback 2012',\n",
              " 'Porsche Panamera Sedan 2012',\n",
              " 'Honda Accord Sedan 2012',\n",
              " 'BMW 3 Series Sedan 2012',\n",
              " 'FIAT 500 Convertible 2012',\n",
              " 'Nissan NV Passenger Van 2012',\n",
              " 'Land Rover LR2 SUV 2012',\n",
              " 'Isuzu Ascender SUV 2008',\n",
              " 'GMC Terrain SUV 2012',\n",
              " 'Chevrolet Sonic Sedan 2012',\n",
              " 'Chevrolet Corvette Convertible 2012',\n",
              " 'Ford Focus Sedan 2007',\n",
              " 'Audi S4 Sedan 2007',\n",
              " 'Audi TT RS Coupe 2012',\n",
              " 'Mitsubishi Lancer Sedan 2012',\n",
              " 'Chevrolet TrailBlazer SS 2009',\n",
              " 'Hyundai Elantra Sedan 2007',\n",
              " 'Nissan Leaf Hatchback 2012',\n",
              " 'Dodge Caliber Wagon 2007',\n",
              " 'Chrysler PT Cruiser Convertible 2008',\n",
              " 'Cadillac CTS-V Sedan 2012',\n",
              " 'Ford Ranger SuperCab 2011',\n",
              " 'Dodge Sprinter Cargo Van 2009',\n",
              " 'Ford Freestar Minivan 2007',\n",
              " 'Hyundai Genesis Sedan 2012',\n",
              " 'Aston Martin V8 Vantage Coupe 2012',\n",
              " 'HUMMER H3T Crew Cab 2010',\n",
              " 'Hyundai Santa Fe SUV 2012',\n",
              " 'Dodge Caliber Wagon 2012',\n",
              " 'Ford Edge SUV 2012',\n",
              " 'Dodge Ram Pickup 3500 Crew Cab 2010',\n",
              " 'Hyundai Sonata Sedan 2012',\n",
              " 'Dodge Charger Sedan 2012',\n",
              " 'Bentley Continental Supersports Conv. Convertible 2012',\n",
              " 'Ferrari 458 Italia Coupe 2012',\n",
              " 'Ferrari 458 Italia Convertible 2012',\n",
              " 'Hyundai Veloster Hatchback 2012',\n",
              " 'Bentley Mulsanne Sedan 2011',\n",
              " 'Hyundai Accent Sedan 2012',\n",
              " 'BMW M6 Convertible 2010',\n",
              " 'Chevrolet Traverse SUV 2012',\n",
              " 'Dodge Challenger SRT8 2011',\n",
              " 'Lamborghini Gallardo LP 570-4 Superleggera 2012',\n",
              " 'Dodge Durango SUV 2012',\n",
              " 'Bugatti Veyron 16.4 Convertible 2009',\n",
              " 'Acura RL Sedan 2012',\n",
              " 'Audi V8 Sedan 1994',\n",
              " 'Ford F-150 Regular Cab 2007',\n",
              " 'Ferrari California Convertible 2012',\n",
              " 'Dodge Dakota Club Cab 2007',\n",
              " 'BMW X6 SUV 2012',\n",
              " 'Jaguar XK XKR 2012',\n",
              " 'Audi S4 Sedan 2012',\n",
              " 'Audi RS 4 Convertible 2008',\n",
              " 'Bentley Continental GT Coupe 2012',\n",
              " 'Jeep Liberty SUV 2012',\n",
              " 'McLaren MP4-12C Coupe 2012',\n",
              " 'Ford F-150 Regular Cab 2012',\n",
              " 'Tesla Model S Sedan 2012',\n",
              " 'Fisker Karma Sedan 2012',\n",
              " 'Jeep Patriot SUV 2012',\n",
              " 'Audi A5 Coupe 2012',\n",
              " 'Chevrolet Impala Sedan 2007',\n",
              " 'Chevrolet Express Cargo Van 2007',\n",
              " 'Lincoln Town Car Sedan 2011',\n",
              " 'Chevrolet Tahoe Hybrid SUV 2012',\n",
              " 'Spyker C8 Coupe 2009',\n",
              " 'Mazda Tribute SUV 2011',\n",
              " 'FIAT 500 Abarth 2012',\n",
              " 'Volvo C30 Hatchback 2012',\n",
              " 'Ford E-Series Wagon Van 2012',\n",
              " 'Acura Integra Type R 2001',\n",
              " 'Ford Fiesta Sedan 2012',\n",
              " 'Nissan 240SX Coupe 1998',\n",
              " 'Jeep Grand Cherokee SUV 2012',\n",
              " 'BMW X3 SUV 2012',\n",
              " 'Chevrolet HHR SS 2010',\n",
              " 'Geo Metro Convertible 1993',\n",
              " 'Honda Odyssey Minivan 2012',\n",
              " 'Chevrolet Monte Carlo Coupe 2007',\n",
              " 'Bentley Continental GT Coupe 2007',\n",
              " 'Plymouth Neon Coupe 1999',\n",
              " 'Chevrolet Corvette ZR1 2012',\n",
              " 'Chevrolet Cobalt SS 2010',\n",
              " 'Aston Martin Virage Convertible 2012',\n",
              " 'Mercedes-Benz 300-Class Convertible 1993',\n",
              " 'Jeep Compass SUV 2012',\n",
              " 'Mercedes-Benz C-Class Sedan 2012',\n",
              " 'BMW 3 Series Wagon 2012',\n",
              " 'Ford F-450 Super Duty Crew Cab 2012',\n",
              " 'Audi 100 Sedan 1994',\n",
              " 'GMC Yukon Hybrid SUV 2012',\n",
              " 'Rolls-Royce Phantom Drophead Coupe Convertible 2012',\n",
              " 'Chevrolet Silverado 1500 Classic Extended Cab 2007',\n",
              " 'Toyota Corolla Sedan 2012',\n",
              " 'Aston Martin V8 Vantage Convertible 2012',\n",
              " 'Ford GT Coupe 2006',\n",
              " 'Audi TTS Coupe 2012',\n",
              " 'Bugatti Veyron 16.4 Coupe 2009',\n",
              " 'Hyundai Azera Sedan 2012',\n",
              " 'Audi S6 Sedan 2011',\n",
              " 'Spyker C8 Convertible 2009',\n",
              " 'Chevrolet Express Van 2007',\n",
              " 'Bentley Continental Flying Spur Sedan 2007',\n",
              " 'Dodge Dakota Crew Cab 2010',\n",
              " 'Acura ZDX Hatchback 2012',\n",
              " 'Ford Mustang Convertible 2007',\n",
              " 'Mercedes-Benz Sprinter Van 2012',\n",
              " 'Cadillac SRX SUV 2012',\n",
              " 'HUMMER H2 SUT Crew Cab 2009',\n",
              " 'Buick Regal GS 2012',\n",
              " 'Chrysler Sebring Convertible 2010',\n",
              " 'Chevrolet Silverado 1500 Extended Cab 2012',\n",
              " 'BMW X5 SUV 2007',\n",
              " 'Audi R8 Coupe 2012',\n",
              " 'Suzuki SX4 Hatchback 2012',\n",
              " 'Acura TSX Sedan 2012',\n",
              " 'BMW 1 Series Convertible 2012']"
            ]
          },
          "metadata": {
            "tags": []
          },
          "execution_count": 7
        }
      ]
    },
    {
      "cell_type": "markdown",
      "metadata": {
        "_uuid": "f87a1d674e0df781177d7b99b550816a45ae1206",
        "id": "yIDez-Dp6X3g"
      },
      "source": [
        "<a id= 'pd_images'></a>\n",
        "# <font color = 'purple'> I am going to use pandas dataframe to store the information of pictures </font>\n",
        "**In the code cell below, I am going to create a function called **pd_images** that will take a folder path and store the files located under that path by recursively going through all the subfolders. It will store the names of folders as the labels of the images.**"
      ]
    },
    {
      "cell_type": "code",
      "metadata": {
        "trusted": true,
        "scrolled": true,
        "_uuid": "0357f46036c680318758bbd94480e6b240901bc4",
        "id": "MXdiNPmW6X3h"
      },
      "source": [
        "# I am setting up a function here that takes the training and test set data and transforms it into a pandas dataframe\n",
        "\n",
        "def pd_images(folder, is_training = True):\n",
        "    data = list()\n",
        "    for labels in os.listdir(car_train):\n",
        "        for label in os.listdir(car_train+labels):\n",
        "            if is_training == True:\n",
        "                car_add = car_train + labels + '/' + label\n",
        "            else:\n",
        "                car_add = car_test+ labels + '/' + label\n",
        "            car_value= (labels, car_add)                \n",
        "            if car_value not in data:\n",
        "                data.append(car_value)   \n",
        "\n",
        "    pd_images = pd.DataFrame(np.array(data).reshape(8144,2), columns= [\"car\", \"image path\"])\n",
        "    \n",
        "    return pd_images\n",
        "\n"
      ],
      "execution_count": null,
      "outputs": []
    },
    {
      "cell_type": "markdown",
      "metadata": {
        "_uuid": "992732f127937164b011448ab12a4875059b35b0",
        "id": "ClzZdQuc6X3l"
      },
      "source": [
        ""
      ]
    },
    {
      "cell_type": "markdown",
      "metadata": {
        "_uuid": "d0e0dc03de6bc39f5af704736b7e1dd7f3deb7b2",
        "id": "3qhL1_pM6X3l"
      },
      "source": [
        "<a id = 'train_test_df'></a>\n",
        "# <font color = 'purple'>Here is a sample of what the dataFrame would look like containing all the inforamtion for the training and the test set. </font>"
      ]
    },
    {
      "cell_type": "code",
      "metadata": {
        "trusted": true,
        "_uuid": "cb9ced7df1ba71ba879503642369d36022af5b64",
        "scrolled": true,
        "id": "cfItOuLv6X3m",
        "outputId": "c58af520-cfda-4002-8368-0ef292aff4dc"
      },
      "source": [
        "train_df = pd_images(car_train, is_training = True)\n",
        "train_df.sample(10)\n",
        "# t_i = train_df.loc[3300]['image path']\n",
        "\n",
        "# a = plt.imread(t_i)\n",
        "# plt.imshow(a)\n",
        "train_df.describe()"
      ],
      "execution_count": null,
      "outputs": [
        {
          "output_type": "execute_result",
          "data": {
            "text/plain": [
              "                        car                                         image path\n",
              "count                  8144                                               8144\n",
              "unique                  196                                               8144\n",
              "top     GMC Savana Van 2012  /kaggle/input/car_data/car_data/train/Acura TL...\n",
              "freq                     68                                                  1"
            ],
            "text/html": [
              "<div>\n",
              "<style scoped>\n",
              "    .dataframe tbody tr th:only-of-type {\n",
              "        vertical-align: middle;\n",
              "    }\n",
              "\n",
              "    .dataframe tbody tr th {\n",
              "        vertical-align: top;\n",
              "    }\n",
              "\n",
              "    .dataframe thead th {\n",
              "        text-align: right;\n",
              "    }\n",
              "</style>\n",
              "<table border=\"1\" class=\"dataframe\">\n",
              "  <thead>\n",
              "    <tr style=\"text-align: right;\">\n",
              "      <th></th>\n",
              "      <th>car</th>\n",
              "      <th>image path</th>\n",
              "    </tr>\n",
              "  </thead>\n",
              "  <tbody>\n",
              "    <tr>\n",
              "      <th>count</th>\n",
              "      <td>8144</td>\n",
              "      <td>8144</td>\n",
              "    </tr>\n",
              "    <tr>\n",
              "      <th>unique</th>\n",
              "      <td>196</td>\n",
              "      <td>8144</td>\n",
              "    </tr>\n",
              "    <tr>\n",
              "      <th>top</th>\n",
              "      <td>GMC Savana Van 2012</td>\n",
              "      <td>/kaggle/input/car_data/car_data/train/Acura TL...</td>\n",
              "    </tr>\n",
              "    <tr>\n",
              "      <th>freq</th>\n",
              "      <td>68</td>\n",
              "      <td>1</td>\n",
              "    </tr>\n",
              "  </tbody>\n",
              "</table>\n",
              "</div>"
            ]
          },
          "metadata": {
            "tags": []
          },
          "execution_count": 9
        }
      ]
    },
    {
      "cell_type": "code",
      "metadata": {
        "trusted": true,
        "_uuid": "baad6a208cf26a10b8f7a64cb6f89fc346ec0c66",
        "scrolled": true,
        "id": "HszeIZA16X3q",
        "outputId": "901665b6-9340-4c79-fb06-27f0680ef1e0"
      },
      "source": [
        "test_df = pd_images(car_test, is_training=False)\n",
        "test_df.sample(10)\n",
        "t_b = test_df.loc[3300]['image path']\n",
        "print(t_b)\n",
        "\n",
        "os.listdir('/kaggle/input/car_data/car_data/test/Chevrolet Traverse SUV 2012/')\n",
        "# b = plt.imread(t_b)\n",
        "# plt.imshow(b)\n"
      ],
      "execution_count": null,
      "outputs": [
        {
          "output_type": "stream",
          "text": [
            "/kaggle/input/car_data/car_data/test/Hyundai Elantra Touring Hatchback 2012/02217.jpg\n"
          ],
          "name": "stdout"
        },
        {
          "output_type": "execute_result",
          "data": {
            "text/plain": [
              "['04620.jpg',\n",
              " '07643.jpg',\n",
              " '02036.jpg',\n",
              " '04503.jpg',\n",
              " '06211.jpg',\n",
              " '01914.jpg',\n",
              " '06728.jpg',\n",
              " '03416.jpg',\n",
              " '07383.jpg',\n",
              " '04419.jpg',\n",
              " '03028.jpg',\n",
              " '04436.jpg',\n",
              " '07198.jpg',\n",
              " '07069.jpg',\n",
              " '07390.jpg',\n",
              " '07984.jpg',\n",
              " '03558.jpg',\n",
              " '04170.jpg',\n",
              " '07286.jpg',\n",
              " '05631.jpg',\n",
              " '02596.jpg',\n",
              " '06818.jpg',\n",
              " '07532.jpg',\n",
              " '01837.jpg',\n",
              " '03107.jpg',\n",
              " '01827.jpg',\n",
              " '01189.jpg',\n",
              " '04217.jpg',\n",
              " '04229.jpg',\n",
              " '06593.jpg',\n",
              " '02940.jpg',\n",
              " '04898.jpg',\n",
              " '01482.jpg',\n",
              " '01570.jpg',\n",
              " '02115.jpg',\n",
              " '04883.jpg',\n",
              " '02322.jpg',\n",
              " '04769.jpg',\n",
              " '00345.jpg',\n",
              " '04760.jpg',\n",
              " '03683.jpg',\n",
              " '02009.jpg',\n",
              " '02208.jpg',\n",
              " '06186.jpg']"
            ]
          },
          "metadata": {
            "tags": []
          },
          "execution_count": 10
        }
      ]
    },
    {
      "cell_type": "markdown",
      "metadata": {
        "_uuid": "923b8d97b99b1404ec7c300ae4464e09f3f34c66",
        "id": "LQKyiP456X3u"
      },
      "source": [
        "<a id = 'some_insight'></a>\n",
        "## <font color ='red'> Here is some crucial information that I just realized. This dataset, has 196 classes of cars. This means that:</font>\n",
        "\n",
        "There are a lot of images of cars here with different models and they are all being given a class independently. I could assign them their own class and train my model based on that. However, that will take me a long time and will probably cost me a lot of money on any kind of cloud service which I use such as an AWS or Azure. So, here is what I am going to do:\n",
        "\n",
        "**Choose three car companies that I want to clasify and train a model to look for them. There cars that I will be training the model to look for are :\n",
        "\n",
        "* Audi\n",
        "* BMW\n",
        "* Mercedes-Benz. \n",
        "\n",
        "In the code cell below, I am creating a function called ***cars_to_label***. This function takes a pandas dataframe and does the following on that dataFrame. \n",
        "\n",
        " It removes all the entries which are not Audi, BMW or Mercedes. \n",
        " \n",
        " Since there a lot of different models of Audi, BMW and Mercedes and I am really interesed in classifying a car as either regardless of the model. So, this function converts these brandde cars to the following labels:\n",
        " \n",
        " Audi : 0\n",
        " \n",
        " BMW : 1\n",
        " \n",
        " Mercedes : 2"
      ]
    },
    {
      "cell_type": "code",
      "metadata": {
        "trusted": true,
        "scrolled": false,
        "_uuid": "02474964222f87ba398eb91d992108dba4c14e47",
        "id": "rLe8b3H_6X3v"
      },
      "source": [
        "\n",
        "def cars_to_label(df):\n",
        "#     good_train = train_df[train_df['car'].str.contains('Audi|BMW|Mercedes')]\n",
        "    df = df[df['car'].str.contains('Audi|BMW|Mercedes')]\n",
        "    df = df[df['car'].notnull()].copy()\n",
        "#     df = df['car'].str.split(' ').str[0]\n",
        "    df['car'] = df['car'].str.split(' ').str[0]\n",
        "    df['car label'] = df.car.astype(\"category\").cat.codes\n",
        "\n",
        "    return df\n",
        "\n"
      ],
      "execution_count": null,
      "outputs": []
    },
    {
      "cell_type": "code",
      "metadata": {
        "trusted": true,
        "_uuid": "60e0672c8d2b7b4fd358779118255f94ab87de6b",
        "id": "P4s34PF46X3z",
        "outputId": "0c98d3a2-1601-4359-9645-01350010acae"
      },
      "source": [
        "train_img = cars_to_label(train_df)\n",
        "# train_img.sample(5)\n",
        "# print(train_img.iloc[4,:]['image path'])\n",
        "# train_img.isnull().values.any()\n",
        "# print('The type of this column is: ', type(train_img.iloc[4,:]['image path']))\n",
        "train_img_df =  train_img[['image path', 'car label']].copy()\n",
        "train_img_df.sample(5)\n"
      ],
      "execution_count": null,
      "outputs": [
        {
          "output_type": "execute_result",
          "data": {
            "text/plain": [
              "                                             image path  car label\n",
              "2602  /kaggle/input/car_data/car_data/train/Audi TT ...          0\n",
              "5466  /kaggle/input/car_data/car_data/train/Audi RS ...          0\n",
              "7426  /kaggle/input/car_data/car_data/train/Audi S6 ...          0\n",
              "5810  /kaggle/input/car_data/car_data/train/Audi A5 ...          0\n",
              "2617  /kaggle/input/car_data/car_data/train/Audi TT ...          0"
            ],
            "text/html": [
              "<div>\n",
              "<style scoped>\n",
              "    .dataframe tbody tr th:only-of-type {\n",
              "        vertical-align: middle;\n",
              "    }\n",
              "\n",
              "    .dataframe tbody tr th {\n",
              "        vertical-align: top;\n",
              "    }\n",
              "\n",
              "    .dataframe thead th {\n",
              "        text-align: right;\n",
              "    }\n",
              "</style>\n",
              "<table border=\"1\" class=\"dataframe\">\n",
              "  <thead>\n",
              "    <tr style=\"text-align: right;\">\n",
              "      <th></th>\n",
              "      <th>image path</th>\n",
              "      <th>car label</th>\n",
              "    </tr>\n",
              "  </thead>\n",
              "  <tbody>\n",
              "    <tr>\n",
              "      <th>2602</th>\n",
              "      <td>/kaggle/input/car_data/car_data/train/Audi TT ...</td>\n",
              "      <td>0</td>\n",
              "    </tr>\n",
              "    <tr>\n",
              "      <th>5466</th>\n",
              "      <td>/kaggle/input/car_data/car_data/train/Audi RS ...</td>\n",
              "      <td>0</td>\n",
              "    </tr>\n",
              "    <tr>\n",
              "      <th>7426</th>\n",
              "      <td>/kaggle/input/car_data/car_data/train/Audi S6 ...</td>\n",
              "      <td>0</td>\n",
              "    </tr>\n",
              "    <tr>\n",
              "      <th>5810</th>\n",
              "      <td>/kaggle/input/car_data/car_data/train/Audi A5 ...</td>\n",
              "      <td>0</td>\n",
              "    </tr>\n",
              "    <tr>\n",
              "      <th>2617</th>\n",
              "      <td>/kaggle/input/car_data/car_data/train/Audi TT ...</td>\n",
              "      <td>0</td>\n",
              "    </tr>\n",
              "  </tbody>\n",
              "</table>\n",
              "</div>"
            ]
          },
          "metadata": {
            "tags": []
          },
          "execution_count": 12
        }
      ]
    },
    {
      "cell_type": "code",
      "metadata": {
        "trusted": true,
        "_uuid": "17619d9f423401fbd27d302cee6970f95095352b",
        "id": "RM9qw56V6X36",
        "outputId": "80a7bb51-b41c-4290-f8bd-51d8f22ec1b6"
      },
      "source": [
        "test_img = cars_to_label(test_df)\n",
        "# print(test_img['image path'].head().str[1][1])\n",
        "# print(test_img.iloc[4,:]['image path'])\n",
        "test_img.sample(10)"
      ],
      "execution_count": null,
      "outputs": [
        {
          "output_type": "execute_result",
          "data": {
            "text/plain": [
              "                car    ...    car label\n",
              "1537  Mercedes-Benz    ...            2\n",
              "7948            BMW    ...            1\n",
              "1334            BMW    ...            1\n",
              "6881  Mercedes-Benz    ...            2\n",
              "4884            BMW    ...            1\n",
              "2158           Audi    ...            0\n",
              "1999            BMW    ...            1\n",
              "8124            BMW    ...            1\n",
              "6777  Mercedes-Benz    ...            2\n",
              "7954            BMW    ...            1\n",
              "\n",
              "[10 rows x 3 columns]"
            ],
            "text/html": [
              "<div>\n",
              "<style scoped>\n",
              "    .dataframe tbody tr th:only-of-type {\n",
              "        vertical-align: middle;\n",
              "    }\n",
              "\n",
              "    .dataframe tbody tr th {\n",
              "        vertical-align: top;\n",
              "    }\n",
              "\n",
              "    .dataframe thead th {\n",
              "        text-align: right;\n",
              "    }\n",
              "</style>\n",
              "<table border=\"1\" class=\"dataframe\">\n",
              "  <thead>\n",
              "    <tr style=\"text-align: right;\">\n",
              "      <th></th>\n",
              "      <th>car</th>\n",
              "      <th>image path</th>\n",
              "      <th>car label</th>\n",
              "    </tr>\n",
              "  </thead>\n",
              "  <tbody>\n",
              "    <tr>\n",
              "      <th>1537</th>\n",
              "      <td>Mercedes-Benz</td>\n",
              "      <td>/kaggle/input/car_data/car_data/test/Mercedes-...</td>\n",
              "      <td>2</td>\n",
              "    </tr>\n",
              "    <tr>\n",
              "      <th>7948</th>\n",
              "      <td>BMW</td>\n",
              "      <td>/kaggle/input/car_data/car_data/test/BMW X5 SU...</td>\n",
              "      <td>1</td>\n",
              "    </tr>\n",
              "    <tr>\n",
              "      <th>1334</th>\n",
              "      <td>BMW</td>\n",
              "      <td>/kaggle/input/car_data/car_data/test/BMW 6 Ser...</td>\n",
              "      <td>1</td>\n",
              "    </tr>\n",
              "    <tr>\n",
              "      <th>6881</th>\n",
              "      <td>Mercedes-Benz</td>\n",
              "      <td>/kaggle/input/car_data/car_data/test/Mercedes-...</td>\n",
              "      <td>2</td>\n",
              "    </tr>\n",
              "    <tr>\n",
              "      <th>4884</th>\n",
              "      <td>BMW</td>\n",
              "      <td>/kaggle/input/car_data/car_data/test/BMW M6 Co...</td>\n",
              "      <td>1</td>\n",
              "    </tr>\n",
              "    <tr>\n",
              "      <th>2158</th>\n",
              "      <td>Audi</td>\n",
              "      <td>/kaggle/input/car_data/car_data/test/Audi S5 C...</td>\n",
              "      <td>0</td>\n",
              "    </tr>\n",
              "    <tr>\n",
              "      <th>1999</th>\n",
              "      <td>BMW</td>\n",
              "      <td>/kaggle/input/car_data/car_data/test/BMW Z4 Co...</td>\n",
              "      <td>1</td>\n",
              "    </tr>\n",
              "    <tr>\n",
              "      <th>8124</th>\n",
              "      <td>BMW</td>\n",
              "      <td>/kaggle/input/car_data/car_data/test/BMW 1 Ser...</td>\n",
              "      <td>1</td>\n",
              "    </tr>\n",
              "    <tr>\n",
              "      <th>6777</th>\n",
              "      <td>Mercedes-Benz</td>\n",
              "      <td>/kaggle/input/car_data/car_data/test/Mercedes-...</td>\n",
              "      <td>2</td>\n",
              "    </tr>\n",
              "    <tr>\n",
              "      <th>7954</th>\n",
              "      <td>BMW</td>\n",
              "      <td>/kaggle/input/car_data/car_data/test/BMW X5 SU...</td>\n",
              "      <td>1</td>\n",
              "    </tr>\n",
              "  </tbody>\n",
              "</table>\n",
              "</div>"
            ]
          },
          "metadata": {
            "tags": []
          },
          "execution_count": 13
        }
      ]
    },
    {
      "cell_type": "markdown",
      "metadata": {
        "_uuid": "59009af468e16ed78b8ca51c34afd8b3af9ad39f",
        "id": "CkOdB4ch6X3-"
      },
      "source": [
        "<a id = 'cnn'></a>\n",
        "# <font color ='purple'> SETTING UP THE CONVOLUTIONAL NEURAL NETWORK  </font>"
      ]
    },
    {
      "cell_type": "code",
      "metadata": {
        "trusted": true,
        "_uuid": "21248ba66322268ae60cc7f34d7314ff12836f54",
        "id": "_jYogwuM6X3_"
      },
      "source": [
        "# let's build the CNN model\n",
        "\n",
        "model = Sequential()\n",
        "\n",
        "#Convolution\n",
        "model.add(Conv2D(32, (3, 3), activation=\"relu\", input_shape=(32, 32, 3)))\n",
        "\n",
        "#Pooling\n",
        "model.add(MaxPooling2D(pool_size = (2, 2)))\n",
        "\n",
        "# 2nd Convolution\n",
        "model.add(Conv2D(32, (3, 3), activation=\"relu\"))\n",
        "\n",
        "# 2nd Pooling layer\n",
        "model.add(MaxPooling2D(pool_size = (2, 2)))\n",
        "model.add(Dropout(0.25))\n",
        "\n",
        "#3rd Convolution\n",
        "model.add(Conv2D(32, (3, 3), activation=\"relu\"))\n",
        "\n",
        "#Pooling\n",
        "model.add(MaxPooling2D(pool_size = (2, 2)))\n",
        "model.add(Dropout(0.25))\n",
        "\n",
        "# Flatten the layer\n",
        "model.add(Flatten())\n",
        "\n",
        "# Fully Connected Layers\n",
        "model.add(Dense(activation = 'relu', units = 128))\n",
        "model.add(Dense(activation = 'sigmoid', units = 3))\n",
        "\n",
        "# Compile the Neural network\n",
        "model.compile(optimizer = 'adam', loss = 'categorical_crossentropy', metrics = ['accuracy'])\n",
        "# model.compile(optimizer = 'adam', loss = 'categorical_crossentropy', metrics = ['accuracy'])\n"
      ],
      "execution_count": null,
      "outputs": []
    },
    {
      "cell_type": "code",
      "metadata": {
        "trusted": true,
        "_uuid": "abd502f7687242e578ecb95189d7fe126d18d430",
        "id": "njCijbJf6X4D"
      },
      "source": [
        "datagen = ImageDataGenerator(rescale=1./255.,validation_split=0.25)"
      ],
      "execution_count": null,
      "outputs": []
    },
    {
      "cell_type": "code",
      "metadata": {
        "trusted": true,
        "_uuid": "6aaa156c99b51d9370e9edb403589c6c179abb61",
        "id": "5vGlMXZp6X4H",
        "outputId": "2e49319c-7468-4b94-a295-4474d591bf60"
      },
      "source": [
        "# print(directory)\n",
        "train_generator=datagen.flow_from_dataframe(\n",
        "# dataframe=train_img,\n",
        "dataframe = train_img_df,\n",
        "# directory=\"/kaggle/input/car_data/car_data/train\",\n",
        "directory = None,\n",
        "x_col=\"image path\",\n",
        "y_col=\"car label\",\n",
        "has_ext=True,                                     \n",
        "subset=\"training\",\n",
        "batch_size=34,\n",
        "seed=42,\n",
        "shuffle=True,\n",
        "class_mode=\"categorical\",\n",
        "target_size=(32,32))\n",
        "\n",
        "\n",
        "\n",
        "valid_generator=datagen.flow_from_dataframe(\n",
        "dataframe=train_img,\n",
        "# directory=\"../input,/car_data/car_data/train/\",\n",
        "# directory = train_img_df,\n",
        "directory = None, \n",
        "x_col=\"image path\",\n",
        "y_col=\"car label\",\n",
        "has_ext=True,\n",
        "subset=\"validation\",\n",
        "batch_size=15,\n",
        "seed=42,\n",
        "shuffle=True,\n",
        "class_mode=\"categorical\",\n",
        "target_size=(32,32))\n",
        "\n",
        "test_datagen=ImageDataGenerator(rescale=1./255.)\n",
        "\n",
        "\n",
        "test_generator=test_datagen.flow_from_dataframe(\n",
        "dataframe=train_img,\n",
        "# directory=\"../input/car_data/car_data/test\",\n",
        "directory = None,\n",
        "x_col=\"image path\",\n",
        "y_col=\"car label\",\n",
        "has_ext=True,\n",
        "batch_size=32,\n",
        "seed=42,\n",
        "shuffle=False,\n",
        "class_mode=None,\n",
        "target_size=(32,32))"
      ],
      "execution_count": null,
      "outputs": [
        {
          "output_type": "stream",
          "text": [
            "Found 1036 images belonging to 3 classes.\n",
            "Found 345 images belonging to 3 classes.\n",
            "Found 1381 images.\n"
          ],
          "name": "stdout"
        }
      ]
    },
    {
      "cell_type": "code",
      "metadata": {
        "trusted": true,
        "_uuid": "a3eb7e98afbe1585be2f99d89e3e758eb4dd8bd2",
        "id": "rnustHSm6X4L"
      },
      "source": [
        "STEP_SIZE_TRAIN=train_generator.n//train_generator.batch_size\n",
        "STEP_SIZE_VALID=valid_generator.n//valid_generator.batch_size\n",
        "# STEP_SIZE_VALID = 23\n",
        "# STEP_SIZE_TRAIN = 30"
      ],
      "execution_count": null,
      "outputs": []
    },
    {
      "cell_type": "code",
      "metadata": {
        "trusted": true,
        "_uuid": "93300d30da087c33eb4a6f846e996feb0980ee2d",
        "id": "jvxvhy896X4P",
        "outputId": "8d2b3db9-50d8-432c-d027-054a7f3251da"
      },
      "source": [
        "model.fit_generator(generator=train_generator,\n",
        "                    steps_per_epoch=STEP_SIZE_TRAIN,\n",
        "                    validation_data=valid_generator,\n",
        "                    validation_steps=STEP_SIZE_VALID,\n",
        "                    epochs=10\n",
        ")"
      ],
      "execution_count": null,
      "outputs": [
        {
          "output_type": "stream",
          "text": [
            "Epoch 1/10\n",
            "30/30 [==============================] - 14s 459ms/step - loss: 1.0511 - acc: 0.5088 - val_loss: 1.2721 - val_acc: 0.0000e+00\n",
            "Epoch 2/10\n",
            "30/30 [==============================] - 11s 374ms/step - loss: 1.0286 - acc: 0.5186 - val_loss: 1.4324 - val_acc: 0.0000e+00\n",
            "Epoch 3/10\n",
            "30/30 [==============================] - 11s 362ms/step - loss: 1.0306 - acc: 0.5156 - val_loss: 1.4029 - val_acc: 0.0000e+00\n",
            "Epoch 4/10\n",
            "30/30 [==============================] - 11s 364ms/step - loss: 1.0242 - acc: 0.5131 - val_loss: 1.3469 - val_acc: 0.0000e+00\n",
            "Epoch 5/10\n",
            "30/30 [==============================] - 10s 342ms/step - loss: 1.0277 - acc: 0.5068 - val_loss: 1.2448 - val_acc: 0.0000e+00\n",
            "Epoch 6/10\n",
            "30/30 [==============================] - 10s 342ms/step - loss: 1.0056 - acc: 0.5157 - val_loss: 1.3671 - val_acc: 0.0000e+00\n",
            "Epoch 7/10\n",
            "30/30 [==============================] - 11s 351ms/step - loss: 1.0120 - acc: 0.5075 - val_loss: 1.3427 - val_acc: 0.0000e+00\n",
            "Epoch 8/10\n",
            "30/30 [==============================] - 10s 338ms/step - loss: 1.0068 - acc: 0.5098 - val_loss: 1.3966 - val_acc: 0.0000e+00\n",
            "Epoch 9/10\n",
            "30/30 [==============================] - 10s 344ms/step - loss: 0.9990 - acc: 0.5059 - val_loss: 1.2473 - val_acc: 0.0000e+00\n",
            "Epoch 10/10\n",
            "30/30 [==============================] - 10s 346ms/step - loss: 0.9944 - acc: 0.5137 - val_loss: 1.4949 - val_acc: 0.0000e+00\n"
          ],
          "name": "stdout"
        },
        {
          "output_type": "execute_result",
          "data": {
            "text/plain": [
              "<keras.callbacks.History at 0x7f40cb35c4e0>"
            ]
          },
          "metadata": {
            "tags": []
          },
          "execution_count": 18
        }
      ]
    },
    {
      "cell_type": "code",
      "metadata": {
        "trusted": true,
        "_uuid": "54e6c44c1f659ff2d7597d49b1fa54892840c15e",
        "id": "tUG9Rg0v6X4T",
        "outputId": "1d740c7a-0812-4b7f-d6ad-e528d2a95ac9"
      },
      "source": [
        "model.evaluate_generator(generator=valid_generator\n",
        ")"
      ],
      "execution_count": null,
      "outputs": [
        {
          "output_type": "execute_result",
          "data": {
            "text/plain": [
              "[1.4948732541955037, 0.0]"
            ]
          },
          "metadata": {
            "tags": []
          },
          "execution_count": 19
        }
      ]
    },
    {
      "cell_type": "code",
      "metadata": {
        "trusted": true,
        "_uuid": "6537a31c89c18a48f638857ad5764d2d52eaa596",
        "id": "MB3EgWYB6X4X",
        "outputId": "68e99770-d6d8-4869-afaa-dfa21b8b41d6"
      },
      "source": [
        "test_generator.reset()\n",
        "pred=model.predict_generator(test_generator,verbose=1)"
      ],
      "execution_count": null,
      "outputs": [
        {
          "output_type": "stream",
          "text": [
            "44/44 [==============================] - 13s 292ms/step\n"
          ],
          "name": "stdout"
        }
      ]
    },
    {
      "cell_type": "code",
      "metadata": {
        "trusted": true,
        "_uuid": "33913ff1e081101603d6a4671d9d22f94d60ef3e",
        "id": "kSQMtRhK6X4a",
        "outputId": "479975b6-c869-4597-ab08-f8d5a6128196"
      },
      "source": [
        "predicted_class_indices=np.argmax(pred,axis=1)\n",
        "print(predicted_class_indices)"
      ],
      "execution_count": null,
      "outputs": [
        {
          "output_type": "stream",
          "text": [
            "[2 2 2 ... 2 2 2]\n"
          ],
          "name": "stdout"
        }
      ]
    },
    {
      "cell_type": "code",
      "metadata": {
        "trusted": true,
        "_uuid": "140e90c54ab84b8b4abac3834cac2c6b80274131",
        "id": "K7IsofqU6X4e"
      },
      "source": [
        "labels = (train_generator.class_indices)\n",
        "labels = dict((v,k) for k,v in labels.items())\n",
        "predictions = [labels[k] for k in predicted_class_indices]\n"
      ],
      "execution_count": null,
      "outputs": []
    },
    {
      "cell_type": "code",
      "metadata": {
        "trusted": true,
        "_uuid": "da3756f67e50a5f41197ab8246d1ec3825524887",
        "id": "4JC99RmY6X4i"
      },
      "source": [
        "filenames=test_generator.filenames\n",
        "results=pd.DataFrame({\"Filename\":filenames,\n",
        "                      \"Predictions\":predictions})\n",
        "results.to_csv(\"results.csv\",index=False)"
      ],
      "execution_count": null,
      "outputs": []
    },
    {
      "cell_type": "code",
      "metadata": {
        "trusted": true,
        "_uuid": "27c72eb7bfd64f31ce8660c9152a77018e42b7d9",
        "id": "0ooV3KNN6X4n",
        "outputId": "58c755fb-05c4-46fc-fec9-64a8919187f6"
      },
      "source": [
        "os.listdir()"
      ],
      "execution_count": null,
      "outputs": [
        {
          "output_type": "execute_result",
          "data": {
            "text/plain": [
              "['__pycache__', 'results.csv', '__notebook_source__.ipynb', 'image.py']"
            ]
          },
          "metadata": {
            "tags": []
          },
          "execution_count": 24
        }
      ]
    },
    {
      "cell_type": "code",
      "metadata": {
        "trusted": true,
        "_uuid": "ec3946b72320f9b1873ca2b4f84b2fa94a87aa9a",
        "id": "ByoRUv9k6X4s",
        "outputId": "f9042b09-948e-4425-bff3-e18e592079a8"
      },
      "source": [
        "results = pd.read_csv('results.csv')\n",
        "\n",
        "# results.sample(10)\n",
        "results['Predictions'].unique\n",
        "# type(results['Predictions'].loc[1])\n",
        "# results.head()\n",
        "results.sample(5)"
      ],
      "execution_count": null,
      "outputs": [
        {
          "output_type": "execute_result",
          "data": {
            "text/plain": [
              "                                               Filename  Predictions\n",
              "975   /kaggle/input/car_data/car_data/train/BMW X3 S...            1\n",
              "1210  /kaggle/input/car_data/car_data/train/Mercedes...            1\n",
              "1058  /kaggle/input/car_data/car_data/train/BMW X6 S...            1\n",
              "1175  /kaggle/input/car_data/car_data/train/Mercedes...            1\n",
              "736   /kaggle/input/car_data/car_data/train/BMW 3 Se...            1"
            ],
            "text/html": [
              "<div>\n",
              "<style scoped>\n",
              "    .dataframe tbody tr th:only-of-type {\n",
              "        vertical-align: middle;\n",
              "    }\n",
              "\n",
              "    .dataframe tbody tr th {\n",
              "        vertical-align: top;\n",
              "    }\n",
              "\n",
              "    .dataframe thead th {\n",
              "        text-align: right;\n",
              "    }\n",
              "</style>\n",
              "<table border=\"1\" class=\"dataframe\">\n",
              "  <thead>\n",
              "    <tr style=\"text-align: right;\">\n",
              "      <th></th>\n",
              "      <th>Filename</th>\n",
              "      <th>Predictions</th>\n",
              "    </tr>\n",
              "  </thead>\n",
              "  <tbody>\n",
              "    <tr>\n",
              "      <th>975</th>\n",
              "      <td>/kaggle/input/car_data/car_data/train/BMW X3 S...</td>\n",
              "      <td>1</td>\n",
              "    </tr>\n",
              "    <tr>\n",
              "      <th>1210</th>\n",
              "      <td>/kaggle/input/car_data/car_data/train/Mercedes...</td>\n",
              "      <td>1</td>\n",
              "    </tr>\n",
              "    <tr>\n",
              "      <th>1058</th>\n",
              "      <td>/kaggle/input/car_data/car_data/train/BMW X6 S...</td>\n",
              "      <td>1</td>\n",
              "    </tr>\n",
              "    <tr>\n",
              "      <th>1175</th>\n",
              "      <td>/kaggle/input/car_data/car_data/train/Mercedes...</td>\n",
              "      <td>1</td>\n",
              "    </tr>\n",
              "    <tr>\n",
              "      <th>736</th>\n",
              "      <td>/kaggle/input/car_data/car_data/train/BMW 3 Se...</td>\n",
              "      <td>1</td>\n",
              "    </tr>\n",
              "  </tbody>\n",
              "</table>\n",
              "</div>"
            ]
          },
          "metadata": {
            "tags": []
          },
          "execution_count": 25
        }
      ]
    },
    {
      "cell_type": "markdown",
      "metadata": {
        "trusted": true,
        "_uuid": "05cf4f265485bca9fdee0aa8ec4181efd1e913e8",
        "id": "xi4ptxb56X4w"
      },
      "source": [
        "<a id = 'scoring'></a>\n",
        "\n",
        "# <font color = 'purple'> Now, my model is trying to predict three classes which are:</font>\n",
        "\n",
        "* Audi = 0 \n",
        "\n",
        "* BMW = 2\n",
        "\n",
        "* Mercedes = 3\n",
        "\n",
        "## <font color ='green'> So this is what I am going to do:</font>\n",
        "\n",
        "* Go through the results DataFrame and check how many Audis were given the label 0, how many BMW's were given the label 1 and how many \n",
        "    Mercedes were given the label of 3. Then divide it by the total number of the results dataFrame entries and get the accuracy."
      ]
    },
    {
      "cell_type": "code",
      "metadata": {
        "trusted": true,
        "_uuid": "5a514ba4e9d2bc394d6c3d100e70d10f8eae4ade",
        "id": "LRYe5XxE6X4x",
        "outputId": "fa762735-4c7a-4689-cdbe-05c572609681"
      },
      "source": [
        "results.sample(10)\n"
      ],
      "execution_count": null,
      "outputs": [
        {
          "output_type": "execute_result",
          "data": {
            "text/plain": [
              "                                               Filename  Predictions\n",
              "996   /kaggle/input/car_data/car_data/train/BMW X5 S...            1\n",
              "208   /kaggle/input/car_data/car_data/train/Audi S4 ...            1\n",
              "54    /kaggle/input/car_data/car_data/train/Audi 100...            1\n",
              "32    /kaggle/input/car_data/car_data/train/Audi 100...            1\n",
              "466   /kaggle/input/car_data/car_data/train/Audi TT ...            1\n",
              "76    /kaggle/input/car_data/car_data/train/Audi 100...            1\n",
              "701   /kaggle/input/car_data/car_data/train/BMW 3 Se...            1\n",
              "474   /kaggle/input/car_data/car_data/train/Audi TT ...            1\n",
              "409   /kaggle/input/car_data/car_data/train/Audi S6 ...            1\n",
              "1154  /kaggle/input/car_data/car_data/train/Mercedes...            1"
            ],
            "text/html": [
              "<div>\n",
              "<style scoped>\n",
              "    .dataframe tbody tr th:only-of-type {\n",
              "        vertical-align: middle;\n",
              "    }\n",
              "\n",
              "    .dataframe tbody tr th {\n",
              "        vertical-align: top;\n",
              "    }\n",
              "\n",
              "    .dataframe thead th {\n",
              "        text-align: right;\n",
              "    }\n",
              "</style>\n",
              "<table border=\"1\" class=\"dataframe\">\n",
              "  <thead>\n",
              "    <tr style=\"text-align: right;\">\n",
              "      <th></th>\n",
              "      <th>Filename</th>\n",
              "      <th>Predictions</th>\n",
              "    </tr>\n",
              "  </thead>\n",
              "  <tbody>\n",
              "    <tr>\n",
              "      <th>996</th>\n",
              "      <td>/kaggle/input/car_data/car_data/train/BMW X5 S...</td>\n",
              "      <td>1</td>\n",
              "    </tr>\n",
              "    <tr>\n",
              "      <th>208</th>\n",
              "      <td>/kaggle/input/car_data/car_data/train/Audi S4 ...</td>\n",
              "      <td>1</td>\n",
              "    </tr>\n",
              "    <tr>\n",
              "      <th>54</th>\n",
              "      <td>/kaggle/input/car_data/car_data/train/Audi 100...</td>\n",
              "      <td>1</td>\n",
              "    </tr>\n",
              "    <tr>\n",
              "      <th>32</th>\n",
              "      <td>/kaggle/input/car_data/car_data/train/Audi 100...</td>\n",
              "      <td>1</td>\n",
              "    </tr>\n",
              "    <tr>\n",
              "      <th>466</th>\n",
              "      <td>/kaggle/input/car_data/car_data/train/Audi TT ...</td>\n",
              "      <td>1</td>\n",
              "    </tr>\n",
              "    <tr>\n",
              "      <th>76</th>\n",
              "      <td>/kaggle/input/car_data/car_data/train/Audi 100...</td>\n",
              "      <td>1</td>\n",
              "    </tr>\n",
              "    <tr>\n",
              "      <th>701</th>\n",
              "      <td>/kaggle/input/car_data/car_data/train/BMW 3 Se...</td>\n",
              "      <td>1</td>\n",
              "    </tr>\n",
              "    <tr>\n",
              "      <th>474</th>\n",
              "      <td>/kaggle/input/car_data/car_data/train/Audi TT ...</td>\n",
              "      <td>1</td>\n",
              "    </tr>\n",
              "    <tr>\n",
              "      <th>409</th>\n",
              "      <td>/kaggle/input/car_data/car_data/train/Audi S6 ...</td>\n",
              "      <td>1</td>\n",
              "    </tr>\n",
              "    <tr>\n",
              "      <th>1154</th>\n",
              "      <td>/kaggle/input/car_data/car_data/train/Mercedes...</td>\n",
              "      <td>1</td>\n",
              "    </tr>\n",
              "  </tbody>\n",
              "</table>\n",
              "</div>"
            ]
          },
          "metadata": {
            "tags": []
          },
          "execution_count": 26
        }
      ]
    },
    {
      "cell_type": "markdown",
      "metadata": {
        "_uuid": "51edd312b55e97ad9a89d87bb7b52858e3756ebe",
        "id": "RWx0uuGo6X40"
      },
      "source": [
        "<a id ='mercedes_results'></a>\n",
        "\n",
        "## <font color = 'green'>Results for Mercedes</font>\n",
        "\n",
        "* For Mercedes, we fed the test generator **261 images** \n",
        "\n",
        "* Our Model classified **151** of them correctly. That makes our model **57.8544%** accurate on Mercedes images."
      ]
    },
    {
      "cell_type": "code",
      "metadata": {
        "trusted": true,
        "_uuid": "e41f558a103300398c73c7b97be24ba9c3e2b7b5",
        "id": "i8-S7Nj_6X41",
        "outputId": "d2b49735-01ba-4534-f722-a559c6321b46"
      },
      "source": [
        "#Total number of mercedes images tested= 261\n",
        "\n",
        "merc_df = results[results['Filename'].str.contains('Mercedes')]\n",
        "merc_df.describe()\n",
        "# merc_df.value_counts\n",
        "merc_df['Filename'].count()\n",
        "# merc_df"
      ],
      "execution_count": null,
      "outputs": [
        {
          "output_type": "execute_result",
          "data": {
            "text/plain": [
              "261"
            ]
          },
          "metadata": {
            "tags": []
          },
          "execution_count": 31
        }
      ]
    },
    {
      "cell_type": "code",
      "metadata": {
        "trusted": true,
        "_uuid": "dad22db99b785fcf30086a3b00c9faa81a862ca7",
        "id": "dw78grO56X44",
        "outputId": "fd0b35e9-0f8b-4bbb-95ab-5d0da8ac07e0"
      },
      "source": [
        "print('The total number of Mercedes classified correctly are:', (merc_df['Predictions'] ==2).sum()) # 151 \n",
        "print('The percentage of Mercedes classified correctly is:',((merc_df['Predictions'] ==2).sum())/(merc_df['Filename'].count())*100, \n",
        "     '%')"
      ],
      "execution_count": null,
      "outputs": [
        {
          "output_type": "stream",
          "text": [
            "The total number of Mercedes classified correctly are: 1\n",
            "The percentage of Mercedes classified correctly is: 0.38314176245210724 %\n"
          ],
          "name": "stdout"
        }
      ]
    },
    {
      "cell_type": "markdown",
      "metadata": {
        "_uuid": "901e7736edfbc4c54d7b38c5bc35fc33c892339c",
        "id": "d9LttyTH6X49"
      },
      "source": [
        "<a id  = 'merc-plots'></a>\n",
        "## <font color='green'>Let's take a look at the correctly and wrongly classified cars as Mercedes</font>"
      ]
    },
    {
      "cell_type": "code",
      "metadata": {
        "trusted": true,
        "id": "x7x971Yp6X4_",
        "outputId": "67a033a2-2a25-458e-9022-985eca396332"
      },
      "source": [
        "\n",
        "merc_correct = merc_df.loc[merc_df['Predictions']!=0&2, 'Filename']\n",
        "mc_img = merc_correct.iloc[np.random.randint(1,len(merc_correct))]\n",
        "img_mc = Image.open(mc_img)\n",
        "\n",
        "\n",
        "f = plt.figure(figsize=(10,10))\n",
        "a2 = f.add_subplot(1,2,2)\n",
        "img_plot = plt.imshow(img_mc)\n",
        "a2.set_title('Mercedes')"
      ],
      "execution_count": null,
      "outputs": [
        {
          "output_type": "execute_result",
          "data": {
            "text/plain": [
              "Text(0.5,1,'Mercedes')"
            ]
          },
          "metadata": {
            "tags": []
          },
          "execution_count": 38
        },
        {
          "output_type": "display_data",
          "data": {
            "text/plain": [
              "<Figure size 720x720 with 1 Axes>"
            ],
            "image/png": "[encoded data removed]"
          },
          "metadata": {
            "tags": []
          }
        }
      ]
    },
    {
      "cell_type": "markdown",
      "metadata": {
        "_uuid": "1b56328cef4590e45cadcf596d41d5570b0c4f3e",
        "id": "SGFaVldN6X5D"
      },
      "source": [
        "<a id = 'bmw'></a>\n",
        "\n",
        "## <font color = 'green'> Results for BMW </font>\n",
        "\n",
        "* For BMW, we fed the test generator **531 images** \n",
        "\n",
        "* Our Model classified **423** of them correctly. That makes our model **79.661%** accurate on BMW images.\n",
        "    \n",
        "\n"
      ]
    },
    {
      "cell_type": "code",
      "metadata": {
        "trusted": true,
        "_uuid": "3658176cb73e3b7943ee3bbfacdedc5f5fe21826",
        "id": "dCcFynnO6X5D",
        "outputId": "4cf0b8c3-2aa6-4125-ec7b-b6b395f3919c"
      },
      "source": [
        "bmw_df = results[results['Filename'].str.contains('BMW')]\n",
        "print(bmw_df['Filename'].count(), 'images were provided for evaluation as BMW or not')"
      ],
      "execution_count": null,
      "outputs": [
        {
          "output_type": "stream",
          "text": [
            "531 images were provided for evaluation as BMW or not\n"
          ],
          "name": "stdout"
        }
      ]
    },
    {
      "cell_type": "code",
      "metadata": {
        "trusted": true,
        "_uuid": "9c3063fe8590fb3b068e95908fe74a456e20eb4a",
        "id": "RQL8sOuK6X5G",
        "outputId": "0e8e1a0f-ffe7-485f-ed74-5e24407b6919"
      },
      "source": [
        "print('The total number of BMW classified correctly are:', (bmw_df['Predictions'] ==1).sum()) # 151 \n",
        "print('The percentage of BMW classified correctly is:',((bmw_df['Predictions'] ==1).sum())/(bmw_df['Filename'].count())*100, \n",
        "     '%')"
      ],
      "execution_count": null,
      "outputs": [
        {
          "output_type": "stream",
          "text": [
            "The total number of BMW classified correctly are: 531\n",
            "The percentage of BMW classified correctly is: 100.0 %\n"
          ],
          "name": "stdout"
        }
      ]
    },
    {
      "cell_type": "markdown",
      "metadata": {
        "_uuid": "4c66e08673e3ae9898b724598ad7ddbc207e0a2f",
        "id": "qH-kzCPh6X5K"
      },
      "source": [
        "<a id  = 'bmw_plots'></a>\n",
        "## <font color='green'>Let's take a look at the correctly and wrongly classified cars as BMW</font>"
      ]
    },
    {
      "cell_type": "code",
      "metadata": {
        "trusted": true,
        "_uuid": "a724b0adc4f9644a36c0c77f08bb01be1e677d73",
        "id": "WdoL0qMx6X5K",
        "outputId": "27bc9475-305b-4c2b-b45b-16b75c19ed2f"
      },
      "source": [
        "bmw_car =  bmw_df.loc[bmw_df['Predictions']!=0&3, 'Filename']\n",
        "# merc_wrong \n",
        "car_bmw = bmw_car.iloc[np.random.randint(1,len(bmw_car))]\n",
        "bmw_img = Image.open(car_bmw)\n",
        "\n",
        "f = plt.figure(figsize=(10,10))\n",
        "a2 = f.add_subplot(1,2,2)\n",
        "img_plot = plt.imshow(bmw_img)\n",
        "a2.set_title('BMW')"
      ],
      "execution_count": null,
      "outputs": [
        {
          "output_type": "execute_result",
          "data": {
            "text/plain": [
              "Text(0.5,1,'BMW')"
            ]
          },
          "metadata": {
            "tags": []
          },
          "execution_count": 43
        },
        {
          "output_type": "display_data",
          "data": {
            "text/plain": [
              "<Figure size 720x720 with 1 Axes>"
            ],
            "image/png": "[encoded data removed]"
          },
          "metadata": {
            "tags": []
          }
        }
      ]
    },
    {
      "cell_type": "markdown",
      "metadata": {
        "_uuid": "2ac88cf74c6adb33cab7cec39e66371e2cc7df28",
        "id": "5hCr0JP76X5O"
      },
      "source": [
        "<a id = 'Audi'></a>\n",
        "\n",
        "## <font color ='green'> Results for Audi</font>\n",
        "\n",
        "\n",
        "* For Audi, we fed the test generator **589 images** \n",
        "\n",
        "* Our Model classified **113** of them correctly. That makes our model **19.185%** accurate on BMW images.\n",
        "    \n"
      ]
    },
    {
      "cell_type": "code",
      "metadata": {
        "trusted": true,
        "_uuid": "298b2f12458b29bd968b067273cdb2545548f1fb",
        "id": "nkJbtE3A6X5O",
        "outputId": "41c140c3-5d31-4873-931b-0c56e43e03f7"
      },
      "source": [
        "audi = results[results['Filename'].str.contains('Audi')]\n",
        "print(audi['Filename'].count(), 'images were provided for evaluation as Audi or not')"
      ],
      "execution_count": null,
      "outputs": [
        {
          "output_type": "stream",
          "text": [
            "589 images were provided for evaluation as Audi or not\n"
          ],
          "name": "stdout"
        }
      ]
    },
    {
      "cell_type": "code",
      "metadata": {
        "trusted": true,
        "_uuid": "6407cd49e0c13eaf1d6244222303b3ae5b15b87f",
        "id": "AfMf1Prg6X5S",
        "outputId": "75f2bb54-efa0-4bf6-b48a-7f89d10fdf2e"
      },
      "source": [
        "print('The total number of Audi classified correctly are:', (audi['Predictions'] ==0).sum()) # 151 \n",
        "print('The percentage of BMW classified correctly is:',((audi['Predictions'] ==0).sum())/(audi['Filename'].count())*100, \n",
        "     '%')"
      ],
      "execution_count": null,
      "outputs": [
        {
          "output_type": "stream",
          "text": [
            "The total number of Audi classified correctly are: 0\n",
            "The percentage of BMW classified correctly is: 0.0 %\n"
          ],
          "name": "stdout"
        }
      ]
    },
    {
      "cell_type": "markdown",
      "metadata": {
        "_uuid": "1bcd5353442dce835cd9ba834f7eadc86cb0d6be",
        "id": "R2M8Ou-j6X5W"
      },
      "source": [
        "<a id  = 'audi-plots'></a>\n",
        "## <font color='green'>Let's take a look at the correctly and wrongly classified cars as Audi</font>"
      ]
    },
    {
      "cell_type": "code",
      "metadata": {
        "trusted": true,
        "_uuid": "cd0078c5ab709755526bc9a81828bca2e03d13b4",
        "id": "Xxb2zxGV6X5W",
        "outputId": "31d15469-fcd9-43aa-a29b-db3f37950b92"
      },
      "source": [
        "\n",
        "audi_car =  audi.loc[audi['Predictions']!=2&3, 'Filename']\n",
        "# merc_wrong \n",
        "car_audi = audi_car.iloc[np.random.randint(1,len(audi_car))]\n",
        "audi_w_img = Image.open(car_audi)\n",
        "\n",
        "f = plt.figure(figsize=(10,10))\n",
        "a2 = f.add_subplot(1,2,2)\n",
        "img_plot = plt.imshow(audi_w_img)\n",
        "a2.set_title('Audi')"
      ],
      "execution_count": null,
      "outputs": [
        {
          "output_type": "stream",
          "text": [
            "/opt/conda/lib/python3.6/site-packages/matplotlib/cbook/deprecation.py:107: MatplotlibDeprecationWarning: Adding an axes using the same arguments as a previous axes currently reuses the earlier instance.  In a future version, a new instance will always be created and returned.  Meanwhile, this warning can be suppressed, and the future behavior ensured, by passing a unique label to each axes instance.\n",
            "  warnings.warn(message, mplDeprecation, stacklevel=1)\n"
          ],
          "name": "stderr"
        },
        {
          "output_type": "execute_result",
          "data": {
            "text/plain": [
              "Text(0.5,1,'Audi')"
            ]
          },
          "metadata": {
            "tags": []
          },
          "execution_count": 47
        },
        {
          "output_type": "display_data",
          "data": {
            "text/plain": [
              "<Figure size 432x288 with 1 Axes>"
            ],
            "image/png": "[encoded data removed]"
          },
          "metadata": {
            "tags": []
          }
        }
      ]
    },
    {
      "cell_type": "markdown",
      "metadata": {
        "trusted": true,
        "_uuid": "63ee4796d801c2a367f69452160d7eb5f1dd5778",
        "id": "a8ZXsRKv6X5c"
      },
      "source": [
        "<a id = 'final'></a>\n",
        "# <font color = 'purple'>Results review and future endeavors to improve results</font>\n",
        "\n",
        "## <font color ='green'>For this model, we fed it pictures for Audi, BMW, Mercedes and asked it to predict images as either cars after traning  on 1036 images with 345 images in validation set. </font>\n",
        "\n",
        "When we tested this model, we found that:\n",
        "\n",
        "* It predicted 113 out of 589 picutres of Audis correctly, making it **19.185% accurate for Audi. **\n",
        "\n",
        "* It predicted 423 out of 531 pictures of BMWs correctly, making it **79.661% accurate for BMW**\n",
        "\n",
        "* It predicted 151 out of 261 pictures of Mercedes correctly, making it **57.854% accurate for Mercedes.**\n",
        "\n",
        "## <font color= 'green'>  However, if we were to look at this model from a brand agnostic point of view, it:</font>\n",
        "\n",
        "* It classified **113 Audis, 423 BMWs and 151  Mercedes** correctly out of **589+531+261=1381** images correctly. \n",
        "\n",
        "* That makes this model **47.74% accurate on this dataset.**\n",
        "\n",
        "\n",
        "## <font color = 'red'> WHY SUCH A LOW ACCURACY? </font>\n",
        "\n",
        "The main reason that I can see is the size of the dataset that I used. The original dataset, is 8144 images, but I only focused on Audi, BMW and Mercedes which weeded the dataset to 1036 images and that is just not enough to get all the nuances. You would need a better, more augmented dataset.\n",
        "\n",
        "\n",
        "## <font color = 'red'> WHAT CAN WE DO NOW?</font>\n",
        "* The obvious answer would be to get more images if we just want to focus on these three brands. \n",
        "\n",
        "* WE could also use Keras' inbuilt data augmentation techniques to make our dataset better.. \n",
        "\n",
        "* We can tune the hyper parametes such as batch size, the number of layers used. \n",
        "\n",
        "## <font color = 'red'> WHAT WILL I DO? </font>\n",
        "\n",
        " \n",
        "\n",
        "Onward to the next horizon!!!\n",
        "\n",
        "![https://media.giphy.com/media/VKirGWvSa2EAo/giphy.gif](https://media.giphy.com/media/VKirGWvSa2EAo/giphy.gif)\n",
        "\n",
        "\n"
      ]
    }
  ]
}